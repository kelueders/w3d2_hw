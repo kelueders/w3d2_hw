{
 "cells": [
  {
   "cell_type": "markdown",
   "metadata": {},
   "source": [
    "# Object-Oriented-Programming (OOP)"
   ]
  },
  {
   "cell_type": "markdown",
   "metadata": {},
   "source": [
    "## Tasks Today:\n",
    "\n",
    "   \n",
    "\n",
    "1) <b>Creating a Class (Initializing/Declaring)</b> <br>\n",
    "2) <b>Using a Class (Instantiating)</b> <br>\n",
    " &nbsp;&nbsp;&nbsp;&nbsp; a) Creating One Instance <br>\n",
    " &nbsp;&nbsp;&nbsp;&nbsp; b) Creating Multiple Instances <br>\n",
    " &nbsp;&nbsp;&nbsp;&nbsp; c) In-Class Exercise #1 - Create a Class 'Car' and instantiate three different makes of cars <br>\n",
    "3) <b>The \\__init\\__() Method</b> <br>\n",
    " &nbsp;&nbsp;&nbsp;&nbsp; a) The 'self' Attribute <br>\n",
    "4) <b>Class Attributes</b> <br>\n",
    " &nbsp;&nbsp;&nbsp;&nbsp; a) Initializing Attributes <br>\n",
    " &nbsp;&nbsp;&nbsp;&nbsp; b) Setting an Attribute Outside of the \\__init\\__() Method <br>\n",
    " &nbsp;&nbsp;&nbsp;&nbsp; c) Setting Defaults for Attributes <br>\n",
    " &nbsp;&nbsp;&nbsp;&nbsp; d) Accessing Class Attributes <br>\n",
    " &nbsp;&nbsp;&nbsp;&nbsp; e) Changing Class Attributes <br>\n",
    " &nbsp;&nbsp;&nbsp;&nbsp; f) In-Class Exercise #2 - Add a color and wheels attribute to your 'Car' class <br>\n",
    "5) <b>Class Methods</b> <br>\n",
    " &nbsp;&nbsp;&nbsp;&nbsp; a) Creating <br>\n",
    " &nbsp;&nbsp;&nbsp;&nbsp; b) Calling <br>\n",
    " &nbsp;&nbsp;&nbsp;&nbsp; c) Modifying an Attribute's Value Through a Method <br>\n",
    " &nbsp;&nbsp;&nbsp;&nbsp; d) Incrementing an Attribute's Value Through a Method <br>\n",
    " &nbsp;&nbsp;&nbsp;&nbsp; e) In-Class Exercise #3 - Add a method that prints the cars color and wheel number, then call them <br>\n",
    "6) <b>Inheritance</b> <br>\n",
    " &nbsp;&nbsp;&nbsp;&nbsp; a) Syntax for Inheriting from a Parent Class <br>\n",
    " &nbsp;&nbsp;&nbsp;&nbsp; b) The \\__init\\__() Method for a Child Class (super()) <br>\n",
    " &nbsp;&nbsp;&nbsp;&nbsp; c) Defining Attributes and Methods for the Child Class <br>\n",
    " &nbsp;&nbsp;&nbsp;&nbsp; d) Method Overriding <br>\n",
    " &nbsp;&nbsp;&nbsp;&nbsp; e) In-Class Exercise #4 - Create a class 'Ford' that inherits from 'Car' class and initialize it as a Blue Ford Explorer with 4 wheels using the super() method <br>\n",
    "7) <b>Classes as Attributes</b> <br>\n",
    "8) <b>Exercises</b> <br>\n",
    " &nbsp;&nbsp;&nbsp;&nbsp; a) Exercise #1 - Turn the shopping cart program from last week into an object-oriented program <br>"
   ]
  },
  {
   "cell_type": "markdown",
   "metadata": {},
   "source": [
    "## Creating a Class (Initializing/Declaring)\n",
    "<p>When creating a class, function, or even a variable you are initializing that object. <b>Initializing and Declaring occur at the same time in Python</b>, whereas in lower level languages you have to declare an object before initializing it. This is the first step in the process of using a class.</p>"
   ]
  },
  {
   "cell_type": "code",
   "execution_count": 2,
   "metadata": {},
   "outputs": [],
   "source": [
    "class Car():\n",
    "    wheels = 4\n",
    "    color = \"blue\""
   ]
  },
  {
   "cell_type": "markdown",
   "metadata": {},
   "source": [
    "## Using a Class (Instantiating)\n",
    "<p>The process of creating a class is called <i>Instantiating</i>. Each time you create a variable of that type of class, it is referred to as an <i>Instance</i> of that class. This is the second step in the process of using a class.</p>"
   ]
  },
  {
   "cell_type": "markdown",
   "metadata": {},
   "source": [
    "##### Creating One Instance"
   ]
  },
  {
   "cell_type": "code",
   "execution_count": 3,
   "metadata": {},
   "outputs": [
    {
     "name": "stdout",
     "output_type": "stream",
     "text": [
      "4\n",
      "blue\n"
     ]
    }
   ],
   "source": [
    "ford = Car()\n",
    "print(ford.wheels)\n",
    "print(ford.color)"
   ]
  },
  {
   "cell_type": "markdown",
   "metadata": {},
   "source": [
    "##### Creating Multiple Instances"
   ]
  },
  {
   "cell_type": "code",
   "execution_count": 4,
   "metadata": {},
   "outputs": [
    {
     "name": "stdout",
     "output_type": "stream",
     "text": [
      "blue\n",
      "blue\n",
      "blue\n"
     ]
    }
   ],
   "source": [
    "mazda = Car()\n",
    "honda = Car()\n",
    "chevy = Car()\n",
    "\n",
    "print(mazda.color)\n",
    "print(honda.color)\n",
    "print(chevy.color)"
   ]
  },
  {
   "cell_type": "markdown",
   "metadata": {},
   "source": [
    "##### In-Class Exercise #1 - Create a Class 'Car' and Instantiate three different makes of cars"
   ]
  },
  {
   "cell_type": "code",
   "execution_count": 8,
   "metadata": {},
   "outputs": [],
   "source": [
    "class Car():\n",
    "    color = \"red\"\n",
    "    style = \"sedan\""
   ]
  },
  {
   "cell_type": "code",
   "execution_count": 9,
   "metadata": {},
   "outputs": [],
   "source": [
    "volkswagon = Car()"
   ]
  },
  {
   "cell_type": "code",
   "execution_count": 10,
   "metadata": {},
   "outputs": [],
   "source": [
    "volvo = Car()"
   ]
  },
  {
   "cell_type": "code",
   "execution_count": 11,
   "metadata": {},
   "outputs": [
    {
     "name": "stdout",
     "output_type": "stream",
     "text": [
      "red\n",
      "sedan\n"
     ]
    }
   ],
   "source": [
    "bmw = Car()\n",
    "\n",
    "print(volvo.color)\n",
    "print(bmw.style)"
   ]
  },
  {
   "cell_type": "markdown",
   "metadata": {},
   "source": [
    "## The \\__init\\__() Method <br>\n",
    "<p>This method is used in almost every created class, and called only once upon the creation of the class instance. This method will initialize all variables needed for the object.</p>"
   ]
  },
  {
   "cell_type": "code",
   "execution_count": 14,
   "metadata": {
    "scrolled": true
   },
   "outputs": [
    {
     "name": "stdout",
     "output_type": "stream",
     "text": [
      "4\n",
      "blue\n",
      "2\n",
      "red\n",
      "5\n",
      "black\n"
     ]
    }
   ],
   "source": [
    "class Car():\n",
    "    def __init__(self, wheels, color, doors):\n",
    "        self.wheels = wheels\n",
    "        self.color = color\n",
    "        self.doors = doors\n",
    "        \n",
    "mazda = Car(4, \"blue\", 2)\n",
    "print(mazda.wheels)\n",
    "print(mazda.color)\n",
    "print(mazda.doors)\n",
    "\n",
    "honda = Car(4, \"red\", 5)\n",
    "print(honda.color)\n",
    "print(honda.doors)\n",
    "\n",
    "yamaha = Car(2, \"black\", 0)\n",
    "print(yamaha.color)"
   ]
  },
  {
   "cell_type": "markdown",
   "metadata": {},
   "source": [
    "<p>You can have several instances of the objects and they are not aware of the presence of each other. This is the usefulness of objects. You can alter attributes within a class and it will constantly keep track of it. Any time a method interacts with the class it needs to have self passed in so that it can keep track.</p>"
   ]
  },
  {
   "cell_type": "markdown",
   "metadata": {},
   "source": [
    "##### The 'self' Attribute <br>\n",
    "<p>This attribute is required to keep track of specific instance's attributes. Without the self attribute, the program would not know how to reference or keep track of an instance's attributes.</p>"
   ]
  },
  {
   "cell_type": "code",
   "execution_count": 17,
   "metadata": {},
   "outputs": [
    {
     "name": "stdout",
     "output_type": "stream",
     "text": [
      "Charmander\n",
      "Squirtle\n",
      "This is Charmander. It is a fire\n",
      "This is Squirtle. It is a water\n"
     ]
    }
   ],
   "source": [
    "class Pokemon():\n",
    "    def __init__(self, name, type_):\n",
    "        # self is going to reference back to the object/instance of our class\n",
    "        # defining the attributes\n",
    "        self.name = name\n",
    "        self.type = type_\n",
    "#         print(self.name)\n",
    "#         print(self.type)\n",
    "        \n",
    "    def print_info(self):\n",
    "        print(f\"This is {self.name}. It is a {self.type}\")\n",
    "\n",
    "# instance class  = class(attributes)\n",
    "charmander = Pokemon(\"Charmander\", \"fire\")\n",
    "squirtle = Pokemon(\"Squirtle\", \"water\")\n",
    "\n",
    "print(charmander.name)\n",
    "print(squirtle.name)\n",
    "\n",
    "charmander.print_info()   # charmander is the object, we can then call the specific method in that class\n",
    "squirtle.print_info()"
   ]
  },
  {
   "cell_type": "markdown",
   "metadata": {},
   "source": [
    "## Class Attributes <br>\n",
    "<p>While variables are inside of a class, they are referred to as attributes and not variables. When someone says 'attribute' you know they're speaking about a class. Attributes can be initialized through the init method, or outside of it.</p>"
   ]
  },
  {
   "cell_type": "markdown",
   "metadata": {},
   "source": [
    "##### Initializing Attributes"
   ]
  },
  {
   "cell_type": "code",
   "execution_count": 19,
   "metadata": {},
   "outputs": [],
   "source": [
    "class Pokemon():\n",
    "    def __init__(self, name, type_):\n",
    "        # self is going to reference back to the object/instance of our class\n",
    "        # defining the attributes\n",
    "        self.name = name\n",
    "        self.type = type_\n",
    "#         print(self.name)\n",
    "#         print(self.type)\n",
    "        \n",
    "    def print_info(self):\n",
    "        print(f\"This is {self.name}. It is a {self.type}\")\n",
    "        \n",
    "# order matters when we are instantiating and referencing\n",
    "bulbasaur = Pokemon(\"Bulbasaur\", \"grass\")"
   ]
  },
  {
   "cell_type": "markdown",
   "metadata": {},
   "source": [
    "##### Accessing Class Attributes"
   ]
  },
  {
   "cell_type": "code",
   "execution_count": 23,
   "metadata": {
    "scrolled": true
   },
   "outputs": [
    {
     "name": "stdout",
     "output_type": "stream",
     "text": [
      "Bulbasaur\n",
      "grass\n",
      "{'name': 'Bulbasaur', 'type': 'grass'}\n"
     ]
    },
    {
     "data": {
      "text/plain": [
       "['__class__',\n",
       " '__delattr__',\n",
       " '__dict__',\n",
       " '__dir__',\n",
       " '__doc__',\n",
       " '__eq__',\n",
       " '__format__',\n",
       " '__ge__',\n",
       " '__getattribute__',\n",
       " '__gt__',\n",
       " '__hash__',\n",
       " '__init__',\n",
       " '__init_subclass__',\n",
       " '__le__',\n",
       " '__lt__',\n",
       " '__module__',\n",
       " '__ne__',\n",
       " '__new__',\n",
       " '__reduce__',\n",
       " '__reduce_ex__',\n",
       " '__repr__',\n",
       " '__setattr__',\n",
       " '__sizeof__',\n",
       " '__str__',\n",
       " '__subclasshook__',\n",
       " '__weakref__',\n",
       " 'name',\n",
       " 'print_info',\n",
       " 'type']"
      ]
     },
     "execution_count": 23,
     "metadata": {},
     "output_type": "execute_result"
    }
   ],
   "source": [
    "print(bulbasaur.name)\n",
    "print(bulbasaur.type)\n",
    "\n",
    "#__dict__\n",
    "print(bulbasaur.__dict__)\n",
    "dir(bulbasaur)"
   ]
  },
  {
   "cell_type": "markdown",
   "metadata": {},
   "source": [
    "##### Setting Defaults for Attributes"
   ]
  },
  {
   "cell_type": "code",
   "execution_count": 25,
   "metadata": {},
   "outputs": [
    {
     "name": "stdout",
     "output_type": "stream",
     "text": [
      "4\n",
      "blue\n"
     ]
    }
   ],
   "source": [
    "class Car():\n",
    "    def __init__(self, wheels):\n",
    "        self.wheels = wheels\n",
    "        self.color = \"blue\"   # you wouldn't be able to change this except via special ways\n",
    "\n",
    "honda = Car(4)\n",
    "print(honda.wheels)\n",
    "print(honda.color)"
   ]
  },
  {
   "cell_type": "code",
   "execution_count": 28,
   "metadata": {},
   "outputs": [
    {
     "name": "stdout",
     "output_type": "stream",
     "text": [
      "4\n",
      "Red\n",
      "Yellow\n"
     ]
    }
   ],
   "source": [
    "class Car():\n",
    "    def __init__(self, wheels, color = \"Red\"):\n",
    "        self.wheels = wheels\n",
    "        self.color = color\n",
    "\n",
    "ford = Car(4)\n",
    "print(ford.wheels)\n",
    "print(ford.color)\n",
    "\n",
    "mazda = Car(4, \"Yellow\")  # this will override it\n",
    "\n",
    "print(mazda.color)"
   ]
  },
  {
   "cell_type": "markdown",
   "metadata": {},
   "source": [
    "##### Changing Class Attributes <br>\n",
    "<p>Keep in mind there are global class attributes and then there are attributes only available to each class instance which won't effect other classes.</p>"
   ]
  },
  {
   "cell_type": "code",
   "execution_count": 30,
   "metadata": {},
   "outputs": [
    {
     "name": "stdout",
     "output_type": "stream",
     "text": [
      "4\n",
      "blue\n",
      "Before attribute change blue\n",
      "After attribute change orange\n",
      "6\n"
     ]
    }
   ],
   "source": [
    "class Car():\n",
    "    def __init__(self, wheels):\n",
    "        self.wheels = wheels\n",
    "        self.color = \"blue\"   \n",
    "\n",
    "honda = Car(4)\n",
    "print(honda.wheels)\n",
    "print(honda.color)\n",
    "\n",
    "# subaru = Car(4, \"orange\") <--- gives type error for too many arguments\n",
    "\n",
    "subaru = Car(4)\n",
    "print(f\"Before attribute change {subaru.color}\")\n",
    "subaru.color = \"orange\"    # we can reference that attribute directly and change it to something else\n",
    "print(f\"After attribute change {subaru.color}\")\n",
    "\n",
    "subaru.wheels = 6\n",
    "print(subaru.wheels)\n",
    "\n",
    "# later you are going to want to change attributes and interact with them via methods in your class"
   ]
  },
  {
   "cell_type": "markdown",
   "metadata": {},
   "source": [
    "##### In-Class Exercise #2 - Add two new attributes to your 'Car' class then print out two different instances with different doors and seats. Then take that bad boy to the shop and change those attributes. Either with an input or just by changing them"
   ]
  },
  {
   "cell_type": "code",
   "execution_count": 80,
   "metadata": {},
   "outputs": [
    {
     "name": "stdout",
     "output_type": "stream",
     "text": [
      "husky\n"
     ]
    }
   ],
   "source": [
    "class Dog():\n",
    "    def __init__(self, name, breed, color, legs = 4):\n",
    "        self.name = name\n",
    "        self.breed = breed\n",
    "        self.color = color\n",
    "        self.legs = legs\n",
    "        \n",
    "wrynn = Dog(\"Wrynn\", \"husky\", \"white\")\n",
    "print(wrynn.breed)"
   ]
  },
  {
   "cell_type": "markdown",
   "metadata": {},
   "source": [
    "## Class Methods <br>\n",
    "<p>While inside of a class, functions are referred to as 'methods'. If you hear someone mention methods, they're speaking about classes. Methods are essentially functions, but only callable on the instances of a class.</p>"
   ]
  },
  {
   "cell_type": "markdown",
   "metadata": {},
   "source": [
    "##### Creating"
   ]
  },
  {
   "cell_type": "code",
   "execution_count": 120,
   "metadata": {},
   "outputs": [],
   "source": [
    "class Bus():\n",
    "    \"\"\"\n",
    "    The Bus will have doors, seats, seats available, color, and a bus driver\n",
    "    Attributes for the bus:\n",
    "    -doors: integer\n",
    "    -seats: integer\n",
    "    -seats_available: integer\n",
    "    -color: string\n",
    "    -bus_driver: string\n",
    "    \"\"\"\n",
    "    \n",
    "    def __init__(self, doors, seats, seats_available, color, bus_driver):\n",
    "        self.doors = doors\n",
    "        self.seats = seats\n",
    "        self.seats_available = seats_available\n",
    "        self.color = color\n",
    "        self.bus_driver = bus_driver\n",
    "        \n",
    "    # decrement the number of seats available\n",
    "    def load_passengers(self):\n",
    "        if self.seats_available <= 0:\n",
    "            print(\"This bus is full! You can't take anymore passengers! :(\")\n",
    "            if self.seats_available < 0:\n",
    "                print(f\"You left {abs(self.seats_available)} by the road!\")\n",
    "                self.seats_available = 0\n",
    "        else:\n",
    "            passengers = int(input(\"How many passengers are getting on? \"))\n",
    "            self.seats_available -= passengers\n",
    "            if self.seats_available < 0:\n",
    "                print(f\"You have left {abs(self.seats_available)} by the road!\")\n",
    "                self.seats_available = 0\n",
    "            print(f\"{passengers} passengers have boarded. There are {self.seats_available} seats left on the bus!\")\n",
    "                  \n",
    "    # increment the number of seats available\n",
    "    def unload_passengers(self):\n",
    "        if self.seats_available >= self.seats:\n",
    "            print(\"Three is no one left to get off the bus! \")\n",
    "        else:\n",
    "            unload = int(input(\"How many passengers are getting off the bus? \"))\n",
    "            self.seats_available += unload\n",
    "            if self.seats_available >= self.seats:\n",
    "                  self.seats_available = self.seats\n",
    "                  \n",
    "            print(f\"{unload} passengers have got off the bus! There are {self.seats_available} left\")\n",
    "    \n",
    "    # change the bus driver attribute\n",
    "    def change_driver(self):\n",
    "        change = input(\"Who is replacing you? \")\n",
    "        self.bus_driver = change\n",
    "        print(f\"The new bus driver is {self.bus_driver}. Be sure to thank them!\")\n",
    "                  \n",
    "    # display available seats\n",
    "    def check_seats(self):\n",
    "        print(f\"There are {self.seats_available} seats available\")\n",
    "    \n",
    "    # display bus color\n",
    "    def admire_bus(self):\n",
    "        print(f\"Would you just look at that beautiful {self.color} bus!\")"
   ]
  },
  {
   "cell_type": "markdown",
   "metadata": {},
   "source": [
    "##### Calling"
   ]
  },
  {
   "cell_type": "code",
   "execution_count": 121,
   "metadata": {},
   "outputs": [
    {
     "name": "stdout",
     "output_type": "stream",
     "text": [
      "What would you like to do? Load/Unload/Change Driver/Check Seats/Admire Bus/Quit?load\n",
      "How many passengers are getting on? 10\n",
      "10 passengers have boarded. There are 35 seats left on the bus!\n",
      "What would you like to do? Load/Unload/Change Driver/Check Seats/Admire Bus/Quit?unload\n",
      "How many passengers are getting off the bus? 23\n",
      "23 passengers have got off the bus! There are 58 left\n",
      "What would you like to do? Load/Unload/Change Driver/Check Seats/Admire Bus/Quit?check seats\n",
      "There are 58 seats available\n",
      "What would you like to do? Load/Unload/Change Driver/Check Seats/Admire Bus/Quit?admire bus\n",
      "That is not a valid response. Please pick from the list!\n",
      "What would you like to do? Load/Unload/Change Driver/Check Seats/Admire Bus/Quit?admire\n",
      "Would you just look at that beautiful yellow bus!\n",
      "What would you like to do? Load/Unload/Change Driver/Check Seats/Admire Bus/Quit?quit\n",
      "OH NO! There are still passengers to be picked up. Please don't abandon them!\n"
     ]
    }
   ],
   "source": [
    "# instance_variable.method()\n",
    "def run():\n",
    "    ryan_bus = Bus(2, 90, 45, \"yellow\", \"Ryan\")   # instantiate the bus\n",
    "    \n",
    "    while True:\n",
    "        response = input(\"What would you like to do? Load/Unload/Change Driver/Check Seats/Admire Bus/Quit?\")\n",
    "        if response == \"quit\":\n",
    "            print(\"OH NO! There are still passengers to be picked up. Please don't abandon them!\")\n",
    "            break\n",
    "        elif response == \"load\":\n",
    "            ryan_bus.load_passengers()\n",
    "            \n",
    "        elif response == \"unload\":\n",
    "            ryan_bus.unload_passengers()\n",
    "            \n",
    "        elif response == \"change driver\":\n",
    "            ryan_bus.change_driver()\n",
    "        \n",
    "        elif response == \"check seats\":\n",
    "            ryan_bus.check_seats()\n",
    "        \n",
    "        elif response == \"admire\":\n",
    "            ryan_bus.admire_bus()\n",
    "            \n",
    "        else:\n",
    "            print(\"That is not a valid response. Please pick from the list!\")\n",
    "            \n",
    "run()"
   ]
  },
  {
   "cell_type": "markdown",
   "metadata": {},
   "source": [
    "##### Modifying an Attribute's Value Through a Method"
   ]
  },
  {
   "cell_type": "code",
   "execution_count": null,
   "metadata": {},
   "outputs": [],
   "source": [
    "# see above\n",
    "# load_passengers()\n",
    "# unload_passengers()\n",
    "# change_driver()"
   ]
  },
  {
   "cell_type": "markdown",
   "metadata": {},
   "source": [
    "##### Incrementing an Attribute's Value Through a Method"
   ]
  },
  {
   "cell_type": "code",
   "execution_count": null,
   "metadata": {},
   "outputs": [],
   "source": [
    "#unload_passengers()"
   ]
  },
  {
   "cell_type": "markdown",
   "metadata": {},
   "source": [
    "##### In-Class Exercise #3 - Add a method that takes in three parameters of year, doors and seats and prints out a formatted print statement with make, model, year, seats, and doors"
   ]
  },
  {
   "cell_type": "code",
   "execution_count": 134,
   "metadata": {},
   "outputs": [
    {
     "name": "stdout",
     "output_type": "stream",
     "text": [
      "What year was car made? 2013\n",
      "How many doors? 4\n",
      "How many seats? 5\n",
      "What is the correct model?Civic\n",
      "This car is from 2013 and is a Honda Civic and has 4 doors and 5 seats.\n"
     ]
    },
    {
     "data": {
      "text/plain": [
       "{'make': 'Honda', 'model': 'Civic', 'year': '2013', 'doors': '4', 'seats': '5'}"
      ]
     },
     "execution_count": 134,
     "metadata": {},
     "output_type": "execute_result"
    }
   ],
   "source": [
    "# Create class with 2 paramters inside of the __init__ which are make and model, more if you'd like\n",
    "\n",
    "# Create two methods for your class\n",
    "\n",
    "# Create a method that alters an attribute for your class\n",
    "\n",
    "# Display method that prints information about the vehicle\n",
    "\n",
    "# Output: This car is from 2019 and is a Ford Expolorer and has 4 doors and 5 seats\n",
    "\n",
    "# reminder in order to call class methods object.method()\n",
    "\n",
    "# MY ATTEMPT: doesn't work\n",
    "\n",
    "class Car():\n",
    "    def __init__(self, make, model):\n",
    "        self.make = make\n",
    "        self.model = model\n",
    "        self.year = \"\"\n",
    "        self.doors = \"\"\n",
    "        self.seats = \"\"\n",
    "        \n",
    "    def set_qualities(self):\n",
    "        self.year = input(\"What year was car made? \")\n",
    "        self.doors = input(\"How many doors? \")\n",
    "        self.seats = input(\"How many seats? \")\n",
    "        \n",
    "    def change_model(self):\n",
    "        self.model = input(\"What is the correct model?\")\n",
    "        \n",
    "    def display(self):\n",
    "        print(f\"This car is from {self.year} and is a {self.make} {self.model} and has {self.doors} doors and {self.seats} seats.\")\n",
    "        \n",
    "kate_car = Car(\"Honda\", \"Fit\")\n",
    "\n",
    "# kate_car = \n",
    "kate_car.set_qualities()\n",
    "kate_car.change_model()\n",
    "kate_car.display()\n",
    "\n",
    "kate_car.__dict__\n",
    "\n"
   ]
  },
  {
   "cell_type": "code",
   "execution_count": null,
   "metadata": {},
   "outputs": [],
   "source": [
    "def run2():\n",
    "    kate_car = Car(\"Honda\", \"Fit\")\n",
    "    \n",
    "    response = input(\"f What do you want to do? 'set' to set qualities, 'change model', 'display' or 'quit')\n",
    "                     \n",
    "    while True:\n",
    "        if response == \"quit\":\n",
    "            print(\"Thanks. Have a good day\")"
   ]
  },
  {
   "cell_type": "code",
   "execution_count": null,
   "metadata": {},
   "outputs": [],
   "source": [
    "# Working Example\n",
    "\n",
    "class Car():\n",
    "    def __init__(self, model, year, doors, seats):\n",
    "        self.model = model\n",
    "        self.year = year\n",
    "        self.doors = doors\n",
    "        self.seats = seats\n",
    "        \n",
    "    def add_seats(self):\n",
    "        seats = int(input(\"How many seats would you like to add? \"))\n",
    "        self.seats += seats\n",
    "        \n",
    "    def remove_seats(self):\n",
    "        seats = int(input(\"How many seats would you like to remove?\"))\n",
    "        self.seats -= seats\n",
    "    \n",
    "mazda = Car(\"Mazda\", 2020, 4, 5)\n",
    "\n",
    "print(mazda.seats)\n",
    "mazda.add_seats()\n",
    "print(mazda.seats)\n",
    "mazda.remove_seats()\n",
    "print(mazda.seats)"
   ]
  },
  {
   "cell_type": "markdown",
   "metadata": {},
   "source": [
    "## Inheritance <br>\n",
    "<p>You can create a child-parent relationship between two classes by using inheritance. What this allows you to do is have overriding methods, but also inherit traits from the parent class. Think of it as an actual parent and child, the child will inherit the parent's genes, as will the classes in OOP</p>"
   ]
  },
  {
   "cell_type": "markdown",
   "metadata": {},
   "source": [
    "##### Syntax for Inheriting from a Parent Class"
   ]
  },
  {
   "cell_type": "code",
   "execution_count": 109,
   "metadata": {},
   "outputs": [],
   "source": [
    "# create a parent class\n",
    "class Animal():\n",
    "    acceleration = 9.8 # attribute that we're not changing\n",
    "    def __init__(self, name, species, legs = 4):\n",
    "        self.name = name\n",
    "        self.species = species\n",
    "        self.legs = legs\n",
    "        \n",
    "    # generic parent method\n",
    "    def make_sound(self):\n",
    "        print(\"WAAAAAAAA\")\n",
    "        \n",
    "# create child class that inherits from Animal\n",
    "class Dog(Animal):  # <--- inherited parent class goes in the parentheses\n",
    "    speed = 15\n",
    "    def __init__(self, name, species, legs, color):\n",
    "        super().__init__(name, species, legs)    # <--- using super() to inherit attributes from parent class\n",
    "        self.color = color  # attribute uniquie to the child class\n",
    "    \n",
    "    def print_info(self):\n",
    "        print(f\"{self.name} runs at {self.speed} mph and accelerates at {self.acceleration} m/s^2\")\n",
    "        \n",
    "# creation of the grandchild class\n",
    "class Mutt(Dog):\n",
    "    hypoallergenic = True\n",
    "    \n",
    "    # access the animal init through the dog init\n",
    "    def __init__(self, name, species, legs, color, eye_color):\n",
    "        Dog.__init__(self, name, species, legs, color)\n",
    "        self.eye_color = eye_color\n",
    "    \n",
    "    def make_sound(self): # override the Animal make_sound method\n",
    "        print(\"rooooo\")\n",
    "        \n",
    "# parent class does not have access to the child or grandchildren\n",
    "# the child class has access to the parent\n",
    "# the grandchild class has access to the parent and grandchildren"
   ]
  },
  {
   "cell_type": "code",
   "execution_count": 110,
   "metadata": {
    "scrolled": true
   },
   "outputs": [
    {
     "name": "stdout",
     "output_type": "stream",
     "text": [
      "Jimbo\n",
      "WAAAAAAAA\n",
      "4\n"
     ]
    }
   ],
   "source": [
    "elephant = Animal(\"Jimbo\", \"elephant\")\n",
    "print(elephant.name)\n",
    "elephant.make_sound()\n",
    "print(elephant.legs)"
   ]
  },
  {
   "cell_type": "code",
   "execution_count": 111,
   "metadata": {},
   "outputs": [
    {
     "name": "stdout",
     "output_type": "stream",
     "text": [
      "Thea\n",
      "WAAAAAAAA\n",
      "Thea runs at 15 mph and accelerates at 9.8 m/s^2\n"
     ]
    }
   ],
   "source": [
    "thea = Dog(\"Thea\", \"Pit\", 4, \"Brown, White\") # she has access to the parent Animal\n",
    "print(thea.name)\n",
    "thea.make_sound()\n",
    "thea.print_info()"
   ]
  },
  {
   "cell_type": "code",
   "execution_count": 112,
   "metadata": {},
   "outputs": [
    {
     "name": "stdout",
     "output_type": "stream",
     "text": [
      "True\n",
      "False\n",
      "rooooo\n",
      "4\n"
     ]
    }
   ],
   "source": [
    "orion = Mutt(\"Orion\", \"Mutt\", \"brown\", \"black and white\", 4)\n",
    "print(orion.hypoallergenic)\n",
    "orion.hypoallergenic = False\n",
    "print(orion.hypoallergenic)\n",
    "orion.make_sound()\n",
    "print(orion.eye_color)   # neither animal or dog class have access to the eye_color"
   ]
  },
  {
   "cell_type": "markdown",
   "metadata": {},
   "source": [
    "##### The \\__init\\__() Method for a Child Class - super()"
   ]
  },
  {
   "cell_type": "code",
   "execution_count": null,
   "metadata": {
    "scrolled": true
   },
   "outputs": [],
   "source": [
    "# See Above\n",
    "# see Dog class"
   ]
  },
  {
   "cell_type": "markdown",
   "metadata": {},
   "source": [
    "##### Defining Attributes and Methods for the Child Class"
   ]
  },
  {
   "cell_type": "code",
   "execution_count": null,
   "metadata": {},
   "outputs": [],
   "source": [
    "# See Above\n",
    "# animal class and dog class"
   ]
  },
  {
   "cell_type": "markdown",
   "metadata": {},
   "source": [
    "##### Method Overriding"
   ]
  },
  {
   "cell_type": "code",
   "execution_count": null,
   "metadata": {},
   "outputs": [],
   "source": [
    "# See Above\n",
    "# mutt class"
   ]
  },
  {
   "cell_type": "markdown",
   "metadata": {},
   "source": [
    "## Classes as Attributes <br>\n",
    "<p>Classes can also be used as attributes within another class. This is useful in situations where you need to keep variables locally stored, instead of globally stored.</p>"
   ]
  },
  {
   "cell_type": "code",
   "execution_count": 60,
   "metadata": {},
   "outputs": [
    {
     "name": "stdout",
     "output_type": "stream",
     "text": [
      "2023 Porsche 911 turbo 20\n"
     ]
    }
   ],
   "source": [
    "class Battery():\n",
    "    VOLTZ = 7.8\n",
    "    \n",
    "    def __init__(self, cells):\n",
    "        self.cells = cells\n",
    "        \n",
    "    def __repr__():\n",
    "        return str(self.cells)\n",
    "        \n",
    "class Car():\n",
    "    def __init__(self, make, model, year, battery):\n",
    "        self.make = make\n",
    "        self.model = model\n",
    "        self.year = year\n",
    "        self.battery = battery\n",
    "    \n",
    "    def print_info(self):\n",
    "        print(f\"{self.year} {self.make} {self.model} {self.battery.cells}\")\n",
    "        \n",
    "batt = Battery(20)\n",
    "\n",
    "porsche = Car(\"Porsche\", \"911 turbo\", 2023, batt)   # passing in an object from \n",
    "\n",
    "porsche.print_info()"
   ]
  },
  {
   "cell_type": "markdown",
   "metadata": {},
   "source": [
    "<b>Generators in classes</b>"
   ]
  },
  {
   "cell_type": "code",
   "execution_count": 76,
   "metadata": {},
   "outputs": [],
   "source": [
    "class Movie():\n",
    "    def __init__(self):\n",
    "        self.genres = [\"spooky\", \"adventure\", \"drama\", \"horror\", \"comedy\", \"action\", \"romance\"]\n",
    "        self.generator_object = self.yield_genres()\n",
    "        \n",
    "        # method that yields genres for us\n",
    "    def yield_genres(self):\n",
    "        for genre in self.genres:\n",
    "            yield genre\n",
    "            \n",
    "    def show_genres(self):\n",
    "        try:\n",
    "            return next(self.generator_object)\n",
    "        except:\n",
    "            print(\"No more genres\")\n",
    "            \n",
    "my_movie = Movie()    # instantiate the movie"
   ]
  },
  {
   "cell_type": "code",
   "execution_count": 79,
   "metadata": {},
   "outputs": [
    {
     "data": {
      "text/plain": [
       "'drama'"
      ]
     },
     "execution_count": 79,
     "metadata": {},
     "output_type": "execute_result"
    }
   ],
   "source": [
    "my_movie.show_genres()"
   ]
  },
  {
   "cell_type": "markdown",
   "metadata": {},
   "source": [
    "# Exercises"
   ]
  },
  {
   "cell_type": "markdown",
   "metadata": {},
   "source": [
    "### Exercise 1 - Turn the shopping cart program from last week into an object-oriented program\n",
    "\n",
    "The comments in the cell below are there as a guide for thinking about the problem. However, if you feel a different way is best for you and your own thought process, please do what feels best for you by all means."
   ]
  },
  {
   "cell_type": "code",
   "execution_count": 103,
   "metadata": {},
   "outputs": [],
   "source": [
    "from IPython.display import clear_output\n",
    "# Create a class called cart that retains items and has methods to \n",
    "# add, remove, and show\n",
    "\n",
    "class Cart():\n",
    "    def __init__(self):\n",
    "        self.contents = {}\n",
    "        \n",
    "    def add(self):\n",
    "        print(\"\")\n",
    "        food = input(\"What food do you want to add? \")\n",
    "        quantity = input(\"How much do you need of that? \")\n",
    "        self.contents[food] = quantity\n",
    "        \n",
    "    def remove(self):\n",
    "        print(\"\")\n",
    "        print(\"Your Shopping Cart\")\n",
    "        for food, quantity in self.contents.items():\n",
    "            print(f\"Food: {food}     Quantity: {quantity}\")\n",
    "        food = input(\"What food do you want to remove? \")\n",
    "        del self.contents[food]\n",
    "        \n",
    "    def show(self):\n",
    "        print(\"\")\n",
    "        print(\"Your Shopping Cart\")\n",
    "        for food, quantity in self.contents.items():\n",
    "            print(f\"Food: {food}     Quantity: {quantity}\")\n",
    "        print(\"\")\n",
    "            \n",
    "    def quit(self):\n",
    "        print(\"\")\n",
    "        print(\"Happy shopping! Good bye.\")\n",
    "        print(\"Your Shopping Cart\")\n",
    "        for food, quantity in self.contents.items():\n",
    "            print(f\"Food: {food}     Quantity: {quantity}\")\n",
    "            \n",
    "    def error(self):\n",
    "        print(\"\")\n",
    "        print(\"Invalid. Please type one of these 4 words: Show, Add, Delete, or Quit\")"
   ]
  },
  {
   "cell_type": "code",
   "execution_count": 104,
   "metadata": {},
   "outputs": [
    {
     "name": "stdout",
     "output_type": "stream",
     "text": [
      "Do you want to: Show, Add, Remove, or Quit? df\n",
      "\n",
      "Invalid. Please type one of these 4 words: Show, Add, Delete, or Quit\n",
      "Do you want to: Show, Add, Remove, or Quit? add\n",
      "\n",
      "What food do you want to add? milk\n",
      "How much do you need of that? 2 gal\n",
      "Do you want to: Show, Add, Remove, or Quit? remove\n",
      "\n",
      "Your Shopping Cart\n",
      "Food: milk     Quantity: 2 gal\n",
      "What food do you want to remove? milk\n",
      "Do you want to: Show, Add, Remove, or Quit? show\n",
      "\n",
      "Your Shopping Cart\n",
      "\n",
      "Do you want to: Show, Add, Remove, or Quit? quit\n",
      "\n",
      "Happy shopping! Good bye.\n",
      "Your Shopping Cart\n"
     ]
    }
   ],
   "source": [
    "def run():\n",
    "    kate_cart = Cart()\n",
    "    \n",
    "    while True:\n",
    "        response = input(\"Do you want to: Show, Add, Remove, or Quit? \")\n",
    "        if response.lower() == \"quit\":\n",
    "            kate_cart.quit()\n",
    "            break\n",
    "        elif response.lower() == \"add\":\n",
    "            kate_cart.add()\n",
    "        elif response.lower() == \"remove\":\n",
    "            kate_cart.remove()\n",
    "        elif response.lower() == \"show\":\n",
    "            kate_cart.show()\n",
    "        else:\n",
    "            kate_cart.error()\n",
    "            \n",
    "run()"
   ]
  },
  {
   "cell_type": "markdown",
   "metadata": {},
   "source": [
    "### Exercise 2 - Write a Python class which has two methods get_String and print_String. get_String accept a string from the user and print_String print the string in upper case"
   ]
  },
  {
   "cell_type": "code",
   "execution_count": 129,
   "metadata": {},
   "outputs": [
    {
     "name": "stdout",
     "output_type": "stream",
     "text": [
      "Please write a sentence for me to capitalize.hello hello\n",
      "HELLO HELLO\n"
     ]
    }
   ],
   "source": [
    "class Message():\n",
    "    def __init__(self):\n",
    "        self.message = \"\"\n",
    "    \n",
    "    def get_String(self):\n",
    "        self.message = input(\"Please write a sentence for me to capitalize.\")\n",
    "    \n",
    "    def print_String(self):\n",
    "        print(self.message.upper())\n",
    "        \n",
    "user_message = Message()\n",
    "\n",
    "user_message.get_String()\n",
    "user_message.print_String()\n",
    "        "
   ]
  },
  {
   "cell_type": "code",
   "execution_count": 119,
   "metadata": {},
   "outputs": [
    {
     "name": "stdout",
     "output_type": "stream",
     "text": [
      "Please write a sentence for me to capitalize.this is the sentence\n",
      "THIS IS THE SENTENCE\n"
     ]
    }
   ],
   "source": [
    "# def run():\n",
    "#     user_message = Message(\"\")\n",
    "    \n",
    "#     user_message.get_String()\n",
    "    \n",
    "#     user_message.print_String()\n",
    "    \n",
    "# run()"
   ]
  }
 ],
 "metadata": {
  "kernelspec": {
   "display_name": "Python 3 (ipykernel)",
   "language": "python",
   "name": "python3"
  },
  "language_info": {
   "codemirror_mode": {
    "name": "ipython",
    "version": 3
   },
   "file_extension": ".py",
   "mimetype": "text/x-python",
   "name": "python",
   "nbconvert_exporter": "python",
   "pygments_lexer": "ipython3",
   "version": "3.10.11"
  }
 },
 "nbformat": 4,
 "nbformat_minor": 2
}
